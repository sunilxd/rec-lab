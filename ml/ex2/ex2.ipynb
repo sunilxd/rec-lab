{
 "cells": [
  {
   "cell_type": "code",
   "execution_count": 17,
   "metadata": {},
   "outputs": [],
   "source": [
    "import pandas as pd\n",
    "import matplotlib.pyplot as plt\n",
    "import numpy as np"
   ]
  },
  {
   "cell_type": "code",
   "execution_count": 27,
   "metadata": {},
   "outputs": [
    {
     "name": "stdout",
     "output_type": "stream",
     "text": [
      "[[4512 1530]\n",
      " [3738 1297]\n",
      " [4261 1335]\n",
      " [3777 1282]\n",
      " [4177 1590]]\n"
     ]
    }
   ],
   "source": [
    "data = pd.read_csv('headbrain.csv')\n",
    "\n",
    "data_set = np.array(list(zip(list(data['Head Size(cm^3)']), list(data['Brain Weight(grams)']))))\n",
    "print(data_set[:5])"
   ]
  },
  {
   "cell_type": "code",
   "execution_count": 50,
   "metadata": {},
   "outputs": [],
   "source": [
    "def get_line(data_points):\n",
    "    x, y = data_points[:, 0], data_points[:, 1]\n",
    "    x_m, y_m = np.mean(x), np.mean(y)\n",
    "    plt.scatter(x, y)\n",
    "    plt.show()\n",
    "    print(x_m, y_m)\n",
    "    x_d, y_d = x-x_m, y-y_m\n",
    "    m = np.sum(x_d*y_d)/np.sum(x_d**2)\n",
    "    c = y_m - (m*x_m)\n",
    "    print(m, c)\n",
    "    return lambda x : m*x+c"
   ]
  },
  {
   "cell_type": "code",
   "execution_count": 51,
   "metadata": {},
   "outputs": [
    {
     "data": {
      "image/png": "[encoded data removed]",
      "text/plain": [
       "<Figure size 432x288 with 1 Axes>"
      ]
     },
     "metadata": {
      "needs_background": "light"
     },
     "output_type": "display_data"
    },
    {
     "name": "stdout",
     "output_type": "stream",
     "text": [
      "3633.9915611814345 1282.873417721519\n",
      "0.2634293394893993 325.5734210494428\n"
     ]
    }
   ],
   "source": [
    "lin = get_line(data_set)"
   ]
  },
  {
   "cell_type": "code",
   "execution_count": 52,
   "metadata": {},
   "outputs": [
    {
     "data": {
      "text/plain": [
       "337.42774132646576"
      ]
     },
     "execution_count": 52,
     "metadata": {},
     "output_type": "execute_result"
    }
   ],
   "source": [
    "lin(45)"
   ]
  }
 ],
 "metadata": {
  "interpreter": {
   "hash": "916dbcbb3f70747c44a77c7bcd40155683ae19c65e1c03b4aa3499c5328201f1"
  },
  "kernelspec": {
   "display_name": "Python 3.8.10 64-bit",
   "language": "python",
   "name": "python3"
  },
  "language_info": {
   "name": "python",
   "version": "3.8.10"
  },
  "orig_nbformat": 4
 },
 "nbformat": 4,
 "nbformat_minor": 2
}
