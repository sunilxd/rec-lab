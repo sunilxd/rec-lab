{
 "cells": [
  {
   "cell_type": "code",
   "execution_count": 3,
   "metadata": {},
   "outputs": [],
   "source": [
    "# single layer percptron\n",
    "\n",
    "def perceptron(inp, w1=0.7, w2=0.7, th=0.5):\n",
    "    x, y = inp\n",
    "    val = x*w1 + y*w2\n",
    "    if val>th:\n",
    "        return 1\n",
    "    return 0"
   ]
  },
  {
   "cell_type": "code",
   "execution_count": 11,
   "metadata": {},
   "outputs": [],
   "source": [
    "X = [(0, 0), (0, 1), (1, 0), (1, 1)]"
   ]
  },
  {
   "cell_type": "code",
   "execution_count": 13,
   "metadata": {},
   "outputs": [
    {
     "name": "stdout",
     "output_type": "stream",
     "text": [
      "label:0 perceptron:0 True\n",
      "label:0 perceptron:0 True\n",
      "label:0 perceptron:0 True\n",
      "label:1 perceptron:1 True\n"
     ]
    }
   ],
   "source": [
    "## trying to replicate and\n",
    "\n",
    "for x, y in X:\n",
    "    lab = x and y\n",
    "    pre = perceptron((x, y), th=0.7)\n",
    "    print(f\"label:{lab} perceptron:{pre} {lab==pre}\")"
   ]
  },
  {
   "cell_type": "code",
   "execution_count": 14,
   "metadata": {},
   "outputs": [
    {
     "name": "stdout",
     "output_type": "stream",
     "text": [
      "label:0 perceptron:0 True\n",
      "label:1 perceptron:1 True\n",
      "label:1 perceptron:1 True\n",
      "label:1 perceptron:1 True\n"
     ]
    }
   ],
   "source": [
    "## trying to replicate or\n",
    "\n",
    "for x, y in X:\n",
    "    lab = x or y\n",
    "    pre = perceptron((x, y), th=0.1)\n",
    "    print(f\"label:{lab} perceptron:{pre} {lab==pre}\")"
   ]
  }
 ],
 "metadata": {
  "interpreter": {
   "hash": "916dbcbb3f70747c44a77c7bcd40155683ae19c65e1c03b4aa3499c5328201f1"
  },
  "kernelspec": {
   "display_name": "Python 3.8.10 64-bit",
   "language": "python",
   "name": "python3"
  },
  "language_info": {
   "codemirror_mode": {
    "name": "ipython",
    "version": 3
   },
   "file_extension": ".py",
   "mimetype": "text/x-python",
   "name": "python",
   "nbconvert_exporter": "python",
   "pygments_lexer": "ipython3",
   "version": "3.8.10"
  },
  "orig_nbformat": 4
 },
 "nbformat": 4,
 "nbformat_minor": 2
}
