{
 "cells": [
  {
   "cell_type": "code",
   "execution_count": 2,
   "metadata": {},
   "outputs": [],
   "source": [
    "%load_ext sql"
   ]
  },
  {
   "cell_type": "code",
   "execution_count": 5,
   "metadata": {},
   "outputs": [],
   "source": [
    "%sql sqlite://"
   ]
  },
  {
   "cell_type": "code",
   "execution_count": 11,
   "metadata": {},
   "outputs": [
    {
     "name": "stdout",
     "output_type": "stream",
     "text": [
      " * sqlite://\n",
      "(sqlite3.OperationalError) table sales already exists\n",
      "[SQL: CREATE TABLE sales (\n",
      "    key       varchar(6),\n",
      "    ts        timestamp,\n",
      "    product   integer,\n",
      "    completed boolean,\n",
      "    price     float\n",
      ");]\n",
      "(Background on this error at: https://sqlalche.me/e/14/e3q8)\n"
     ]
    }
   ],
   "source": [
    "%%sql\n",
    "CREATE TABLE sales\n",
    "(\n",
    "    key       varchar(6),\n",
    "    ts        timestamp,\n",
    "    product   integer,\n",
    "    completed boolean,\n",
    "    price     float\n",
    ");\n",
    "INSERT INTO sales\n",
    "VALUES ('sale_1', '2019-11-08 00:00', 0, TRUE, 1.1),\n",
    "       ('sale_2', '2019-11-08 01:00', 0, FALSE, 1.2),\n",
    "       ('sale_3', '2019-11-08 01:00', 0, TRUE, 1.3),\n",
    "       ('sale_4', '2019-11-08 01:00', 1, FALSE, 1.4),\n",
    "       ('sale_5', '2019-11-08 02:00', 1, TRUE, 1.5),\n",
    "       ('sale_6', '2019-11-08 02:00', 1, TRUE, 1.5);"
   ]
  },
  {
   "cell_type": "code",
   "execution_count": 12,
   "metadata": {},
   "outputs": [
    {
     "name": "stdout",
     "output_type": "stream",
     "text": [
      " * sqlite://\n",
      "Done.\n"
     ]
    },
    {
     "data": {
      "text/html": [
       "<table>\n",
       "    <tr>\n",
       "        <th>key</th>\n",
       "        <th>ts</th>\n",
       "        <th>product</th>\n",
       "        <th>completed</th>\n",
       "        <th>price</th>\n",
       "    </tr>\n",
       "    <tr>\n",
       "        <td>sale_1</td>\n",
       "        <td>2019-11-08 00:00</td>\n",
       "        <td>0</td>\n",
       "        <td>1</td>\n",
       "        <td>1.1</td>\n",
       "    </tr>\n",
       "    <tr>\n",
       "        <td>sale_2</td>\n",
       "        <td>2019-11-08 01:00</td>\n",
       "        <td>0</td>\n",
       "        <td>0</td>\n",
       "        <td>1.2</td>\n",
       "    </tr>\n",
       "    <tr>\n",
       "        <td>sale_3</td>\n",
       "        <td>2019-11-08 01:00</td>\n",
       "        <td>0</td>\n",
       "        <td>1</td>\n",
       "        <td>1.3</td>\n",
       "    </tr>\n",
       "    <tr>\n",
       "        <td>sale_4</td>\n",
       "        <td>2019-11-08 01:00</td>\n",
       "        <td>1</td>\n",
       "        <td>0</td>\n",
       "        <td>1.4</td>\n",
       "    </tr>\n",
       "    <tr>\n",
       "        <td>sale_5</td>\n",
       "        <td>2019-11-08 02:00</td>\n",
       "        <td>1</td>\n",
       "        <td>1</td>\n",
       "        <td>1.5</td>\n",
       "    </tr>\n",
       "    <tr>\n",
       "        <td>sale_6</td>\n",
       "        <td>2019-11-08 02:00</td>\n",
       "        <td>1</td>\n",
       "        <td>1</td>\n",
       "        <td>1.5</td>\n",
       "    </tr>\n",
       "</table>"
      ],
      "text/plain": [
       "[('sale_1', '2019-11-08 00:00', 0, 1, 1.1),\n",
       " ('sale_2', '2019-11-08 01:00', 0, 0, 1.2),\n",
       " ('sale_3', '2019-11-08 01:00', 0, 1, 1.3),\n",
       " ('sale_4', '2019-11-08 01:00', 1, 0, 1.4),\n",
       " ('sale_5', '2019-11-08 02:00', 1, 1, 1.5),\n",
       " ('sale_6', '2019-11-08 02:00', 1, 1, 1.5)]"
      ]
     },
     "execution_count": 12,
     "metadata": {},
     "output_type": "execute_result"
    }
   ],
   "source": [
    "%%sql\n",
    "select * from sales;"
   ]
  },
  {
   "cell_type": "code",
   "execution_count": null,
   "metadata": {},
   "outputs": [],
   "source": []
  }
 ],
 "metadata": {
  "interpreter": {
   "hash": "916dbcbb3f70747c44a77c7bcd40155683ae19c65e1c03b4aa3499c5328201f1"
  },
  "kernelspec": {
   "display_name": "Python 3.8.10 64-bit",
   "language": "python",
   "name": "python3"
  },
  "language_info": {
   "codemirror_mode": {
    "name": "ipython",
    "version": 3
   },
   "file_extension": ".py",
   "mimetype": "text/x-python",
   "name": "python",
   "nbconvert_exporter": "python",
   "pygments_lexer": "ipython3",
   "version": "3.8.10"
  },
  "orig_nbformat": 4
 },
 "nbformat": 4,
 "nbformat_minor": 2
}
