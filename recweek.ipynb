{
 "cells": [
  {
   "cell_type": "markdown",
   "metadata": {},
   "source": [
    "#### Week 16"
   ]
  },
  {
   "cell_type": "markdown",
   "metadata": {},
   "source": [
    "Given  \n",
    "x1 - no. of 1 mark  \n",
    "x2 - no. of 2 mark  \n",
    "x3 - no. of 3 mark  \n",
    "y - mark to pass\n",
    "\n",
    "need to find the minimum accuracy\n",
    "\n",
    "Example 1  \n",
    "20, 30, 30, 170  \n",
    "(100, 100, 100)  \n",
    "\n",
    "Example 2  \n",
    "20, 30, 30, 120  \n",
    "(0, 58.33, 72.23)  "
   ]
  },
  {
   "cell_type": "markdown",
   "metadata": {},
   "source": [
    "### Week 17"
   ]
  },
  {
   "cell_type": "code",
   "execution_count": 13,
   "metadata": {},
   "outputs": [],
   "source": [
    "def dec(a, b, c, st):\n",
    "    if len(st)!=10 or len(c)!=10:\n",
    "        return -1\n",
    "    ## converting c\n",
    "    dic = {}\n",
    "    for sub in c:\n",
    "        if len(sub)>1:\n",
    "            m = int(sub[-1])\n",
    "            for num in sub[:-1]:\n",
    "                dic[int(num)] = m\n",
    "    for sub in b:\n",
    "        dic[sub] += 9\n",
    "    dic[0] -= a\n",
    "    de_st = st[dic[0]]\n",
    "    for i in range(1, len(dic)):\n",
    "        dic[i] -= dic[i-1]\n",
    "        de_st += st[dic[i]]\n",
    "    return de_st\n",
    "    \n",
    "\n",
    "for _ in range(int(input())):\n",
    "    c, b = input().split('||')\n",
    "    a = int(b[-1])\n",
    "    b = [int(ele) for ele in b[:-1]]\n",
    "    c = c.split('|')\n",
    "    st = input()\n",
    "    try:\n",
    "        print(dec(a, b, c, st))\n",
    "    except Exception:\n",
    "        print(-1)"
   ]
  },
  {
   "cell_type": "code",
   "execution_count": 12,
   "metadata": {},
   "outputs": [
    {
     "name": "stdout",
     "output_type": "stream",
     "text": [
      "{4: 12, 1: 13, 3: 8, 0: 17, 2: 9}\n",
      "5\n",
      "4\n",
      "4\n",
      "8\n"
     ]
    },
    {
     "data": {
      "text/plain": [
       "'lhggl'"
      ]
     },
     "execution_count": 12,
     "metadata": {},
     "output_type": "execute_result"
    }
   ],
   "source": [
    "dec(9, [0, 1, 4], ['0', '1', '2', '43', '14', '5', '6', '7', '308', '29'], 'asdfghjkl;')"
   ]
  }
 ],
 "metadata": {
  "interpreter": {
   "hash": "916dbcbb3f70747c44a77c7bcd40155683ae19c65e1c03b4aa3499c5328201f1"
  },
  "kernelspec": {
   "display_name": "Python 3.8.10 64-bit",
   "language": "python",
   "name": "python3"
  },
  "language_info": {
   "codemirror_mode": {
    "name": "ipython",
    "version": 3
   },
   "file_extension": ".py",
   "mimetype": "text/x-python",
   "name": "python",
   "nbconvert_exporter": "python",
   "pygments_lexer": "ipython3",
   "version": "3.8.10"
  },
  "orig_nbformat": 4
 },
 "nbformat": 4,
 "nbformat_minor": 2
}
